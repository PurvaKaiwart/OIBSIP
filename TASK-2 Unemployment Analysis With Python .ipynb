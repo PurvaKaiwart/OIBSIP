{
 "cells": [
  {
   "cell_type": "markdown",
   "id": "198fef99",
   "metadata": {},
   "source": [
    "# Unemployment is measured by the unemployment rate which is the number of people who are unemployed as a percentage of the total labour force. We have seen a sharp increase in the unemployment rate during Covid-19, so analyzing the unemployment rate can be a good data science project. In this project, let's walk through the task of Unemployment analysis with Python."
   ]
  },
  {
   "cell_type": "code",
   "execution_count": null,
   "id": "6fb5c2ec",
   "metadata": {},
   "outputs": [],
   "source": [
    "#So let’s start the task of Unemployment analysis by importing the necessary Python libraries and the dataset:\n",
    "\n",
    "# data processing\n",
    "import numpy as np \n",
    "import pandas as pd\n",
    "\n",
    "# data visualization\n",
    "import matplotlib.pyplot as plt\n",
    "import seaborn as sns"
   ]
  },
  {
   "cell_type": "code",
   "execution_count": null,
   "id": "fbc2c768",
   "metadata": {},
   "outputs": [],
   "source": [
    "import warnings \n",
    "warnings.filterwarnings('ignore')"
   ]
  },
  {
   "cell_type": "code",
   "execution_count": null,
   "id": "ed311bb7",
   "metadata": {},
   "outputs": [],
   "source": [
    "#Loading dataset"
   ]
  },
  {
   "cell_type": "code",
   "execution_count": null,
   "id": "1091de93",
   "metadata": {},
   "outputs": [],
   "source": [
    "df = pd.read_csv(\"Unemployment_Rate_upto_11_2020[1].csv\")\n",
    "df.head()"
   ]
  },
  {
   "cell_type": "code",
   "execution_count": null,
   "id": "aa60b49c",
   "metadata": {},
   "outputs": [],
   "source": [
    "df.tail()"
   ]
  },
  {
   "cell_type": "code",
   "execution_count": null,
   "id": "e201a5cc",
   "metadata": {},
   "outputs": [],
   "source": [
    "df.shape"
   ]
  },
  {
   "cell_type": "markdown",
   "id": "7bce3c6c",
   "metadata": {},
   "source": [
    "# The unemployment dataset contains 267 instances and 9 variables."
   ]
  },
  {
   "cell_type": "code",
   "execution_count": null,
   "id": "ba78a5a8",
   "metadata": {},
   "outputs": [],
   "source": [
    "df.rename(columns={'Region.1': 'Area'}, inplace=True)\n",
    "#Since we have similar names for two columns we replaced Region.1 with Area which is more concise and clear.\n",
    "\n",
    "#Checking for missing values"
   ]
  },
  {
   "cell_type": "code",
   "execution_count": null,
   "id": "19158d24",
   "metadata": {},
   "outputs": [],
   "source": [
    "#check null values\n",
    "df.isnull().sum()"
   ]
  },
  {
   "cell_type": "code",
   "execution_count": null,
   "id": "b586de57",
   "metadata": {},
   "outputs": [],
   "source": [
    "df.isna().sum() # return the counts of NA values in each columns"
   ]
  },
  {
   "cell_type": "code",
   "execution_count": null,
   "id": "74fbee45",
   "metadata": {},
   "outputs": [],
   "source": [
    "df= df.dropna() # Drop rows with missing values"
   ]
  },
  {
   "cell_type": "code",
   "execution_count": null,
   "id": "47dc849b",
   "metadata": {},
   "outputs": [],
   "source": [
    "df.isna().sum()"
   ]
  },
  {
   "cell_type": "code",
   "execution_count": null,
   "id": "9a0573e4",
   "metadata": {},
   "outputs": [],
   "source": [
    "df.duplicated().sum()"
   ]
  },
  {
   "cell_type": "code",
   "execution_count": null,
   "id": "b078e2d9",
   "metadata": {},
   "outputs": [],
   "source": [
    "df = df.fillna(df.mean()) # Fill missing "
   ]
  },
  {
   "cell_type": "code",
   "execution_count": null,
   "id": "68d5d002",
   "metadata": {},
   "outputs": [],
   "source": [
    "df = df.drop_duplicates() # remove duplicates  entries"
   ]
  },
  {
   "cell_type": "code",
   "execution_count": null,
   "id": "37bc6a4e",
   "metadata": {},
   "outputs": [],
   "source": [
    "df.shape"
   ]
  },
  {
   "cell_type": "code",
   "execution_count": null,
   "id": "43dcf842",
   "metadata": {},
   "outputs": [],
   "source": [
    "# 2.summary of the dataframe"
   ]
  },
  {
   "cell_type": "code",
   "execution_count": null,
   "id": "b21f6b82",
   "metadata": {},
   "outputs": [],
   "source": [
    "df.info()"
   ]
  },
  {
   "cell_type": "code",
   "execution_count": null,
   "id": "5c03911e",
   "metadata": {},
   "outputs": [],
   "source": [
    "df.columns = df.columns.str.strip()\n",
    "df.info()"
   ]
  },
  {
   "cell_type": "markdown",
   "id": "72ca3262",
   "metadata": {},
   "source": [
    "### We need to ensure that the column names are consistent and free of any unwanted spaces, which can help prevent issues when referencing columns during data analysis."
   ]
  },
  {
   "cell_type": "markdown",
   "id": "db714f77",
   "metadata": {},
   "source": [
    "#### Converting data types"
   ]
  },
  {
   "cell_type": "code",
   "execution_count": null,
   "id": "0647860c",
   "metadata": {},
   "outputs": [],
   "source": [
    "df['Date'] = pd.to_datetime(df['Date'])\n",
    "df.dtypes"
   ]
  },
  {
   "cell_type": "markdown",
   "id": "6cd609cc",
   "metadata": {},
   "source": [
    "### Here the column 'Date' was in the object type datatype so we converted it into the datetime format.\n",
    "\n",
    "### Summary Statistics"
   ]
  },
  {
   "cell_type": "code",
   "execution_count": null,
   "id": "ee0454bb",
   "metadata": {},
   "outputs": [],
   "source": [
    "# selecting the categorical variables\n",
    "categorical_var = df.select_dtypes(include='object')\n",
    "# Obtaining summary statistics for the categorical variables\n",
    "categorical_stat = categorical_var.describe().T\n",
    "categorical_stat\n"
   ]
  },
  {
   "cell_type": "code",
   "execution_count": null,
   "id": "16ab1001",
   "metadata": {},
   "outputs": [],
   "source": [
    "# selecting numerical variables\n",
    "numerical_var = df.select_dtypes(exclude='object')\n",
    "# Obtaining summar statistics for the numerical variables\n",
    "numerical_stat = numerical_var.describe().T\n",
    "numerical_stat"
   ]
  },
  {
   "cell_type": "markdown",
   "id": "613116a2",
   "metadata": {},
   "source": [
    "### The mean estimated unemployment rate is high. The high unemployment rate could be attributed to the economic disruptions caused by the pandemic, such as lockdowns, reduced economic activity, and job losses in various sectors.\n",
    "\n",
    "### Dropping irrelevent column"
   ]
  },
  {
   "cell_type": "code",
   "execution_count": null,
   "id": "2cc9ac78",
   "metadata": {},
   "outputs": [],
   "source": [
    "df = df.drop('Frequency', axis=1)\n",
    "df.head()"
   ]
  },
  {
   "cell_type": "markdown",
   "id": "3e7cd59b",
   "metadata": {},
   "source": [
    "# Outlier detection\n"
   ]
  },
  {
   "cell_type": "code",
   "execution_count": null,
   "id": "5c802ec9",
   "metadata": {},
   "outputs": [],
   "source": [
    "colors = ['lightblue', 'lightgreen', 'lightcoral']\n",
    "\n",
    "# Create a figure with three subplots\n",
    "plt.figure(figsize=(12, 6))\n",
    "\n",
    "# Subplot 1: Unemployment Rate\n",
    "plt.subplot(131)\n",
    "df.boxplot(column='Estimated Unemployment Rate (%)', patch_artist=True)\n",
    "plt.gca().get_children()[0].set_facecolor(colors[0])  # Set the color of the first box\n",
    "plt.title('Unemployment Rate')\n",
    "\n",
    "# Subplot 2: Employed\n",
    "plt.subplot(132)\n",
    "df.boxplot(column='Estimated Employed', patch_artist=True)\n",
    "plt.gca().get_children()[0].set_facecolor(colors[1])  # Set the color of the second box\n",
    "plt.title('Employed')\n",
    "\n",
    "# Subplot 3: Labor Participation Rate\n",
    "plt.subplot(133)\n",
    "df.boxplot(column='Estimated Labour Participation Rate (%)', patch_artist=True)\n",
    "plt.gca().get_children()[0].set_facecolor(colors[2])  # Set the color of the third box\n",
    "plt.title('Labor Participation Rate')\n",
    "\n",
    "plt.tight_layout()\n",
    "plt.show()"
   ]
  },
  {
   "cell_type": "markdown",
   "id": "5047c5f8",
   "metadata": {},
   "source": [
    "### Presence of outliers are detected. Since we are analyzing the unemployment during Covid-19 the extreme values in the data are indicative of genuine structural changes or such events therefore we are not removing it.\n",
    "\n",
    "### Correlation plot"
   ]
  },
  {
   "cell_type": "code",
   "execution_count": null,
   "id": "9e3a4ee2",
   "metadata": {},
   "outputs": [],
   "source": [
    "# import seaborn as sns\n",
    "import matplotlib.pyplot as plt\n",
    "\n",
    "# Calculate the correlation matrix\n",
    "correlation_matrix = df.corr()\n",
    "\n",
    "# Create a figure and set its size\n",
    "plt.figure(figsize=(10, 8))\n",
    "\n",
    "# Create a heatmap of the correlation matrix\n",
    "sns.heatmap(correlation_matrix, annot=True, cmap='coolwarm', linewidths=0.5)\n",
    "\n",
    "# Set the title\n",
    "plt.title('Correlation Plot')\n",
    "\n",
    "# Display the plot\n",
    "plt.show()\n"
   ]
  },
  {
   "cell_type": "markdown",
   "id": "adf1430a",
   "metadata": {},
   "source": [
    "### Strong positive and negetive correlation does not exist among the variables."
   ]
  },
  {
   "cell_type": "markdown",
   "id": "8fc877ee",
   "metadata": {},
   "source": [
    "# unemployment rate in india during Covide-19"
   ]
  },
  {
   "cell_type": "code",
   "execution_count": null,
   "id": "4d9842d4",
   "metadata": {},
   "outputs": [],
   "source": [
    "plt.figure(figsize=(12, 6))\n",
    "sns.lineplot(data=df, x='Date', y ='Estimated Unemployment Rate (%)')\n",
    "plt.xticks(rotation=45)\n",
    "plt.show()"
   ]
  },
  {
   "cell_type": "markdown",
   "id": "e49d646c",
   "metadata": {},
   "source": [
    "### The months of april, may, june witnessed high unemployment rate which can be associated with the lockdowns which lead to reduced economic activity and job losses in various sectors."
   ]
  },
  {
   "cell_type": "code",
   "execution_count": null,
   "id": "79044daa",
   "metadata": {},
   "outputs": [],
   "source": [
    "#pairplot"
   ]
  },
  {
   "cell_type": "code",
   "execution_count": null,
   "id": "274fbaef",
   "metadata": {},
   "outputs": [],
   "source": [
    "sns.pairplot(df, diag_kind=\"kde\")"
   ]
  },
  {
   "cell_type": "markdown",
   "id": "39beb66a",
   "metadata": {},
   "source": [
    "# unemployment rate in each state"
   ]
  },
  {
   "cell_type": "code",
   "execution_count": null,
   "id": "3e68d431",
   "metadata": {},
   "outputs": [],
   "source": [
    "import plotly.express as px\n",
    "plot_unemp = df[['Estimated Unemployment Rate (%)','Region']]\n",
    "df_unemployed = plot_unemp.groupby('Region').mean().reset_index()\n",
    "\n",
    "df_unemployed = df_unemployed.sort_values('Estimated Unemployment Rate (%)')\n",
    "\n",
    "fig = px.bar(df_unemployed, x='Region',y='Estimated Unemployment Rate (%)',color = 'Region',title = 'Average unemployment rate in each state',\n",
    "             template='seaborn')\n",
    "fig.show()"
   ]
  },
  {
   "cell_type": "code",
   "execution_count": null,
   "id": "4e6b757e",
   "metadata": {},
   "outputs": [],
   "source": [
    "#highest unemployment rate in"
   ]
  },
  {
   "cell_type": "code",
   "execution_count": null,
   "id": "13d19577",
   "metadata": {},
   "outputs": [],
   "source": [
    "#visualization the distribution of unemployment rates with different areas"
   ]
  },
  {
   "cell_type": "code",
   "execution_count": null,
   "id": "25da4569",
   "metadata": {},
   "outputs": [],
   "source": [
    "fig = px.violin(\n",
    "    df,\n",
    "    x='Area',\n",
    "    y='Estimated Unemployment Rate (%)',\n",
    "    title='Distribution of Unemployment Rates by Areas',\n",
    "    box=True,  # Include box plot inside the violin\n",
    "    points='all',  # Show individual data points\n",
    ")\n",
    "\n",
    "fig.show()"
   ]
  },
  {
   "cell_type": "markdown",
   "id": "fa820a11",
   "metadata": {},
   "source": [
    "#### Since areas with wider or taller violins may have more variability in unemployment rates, south and east part of India experienced higher unemployment."
   ]
  },
  {
   "cell_type": "markdown",
   "id": "4d0dcc4c",
   "metadata": {},
   "source": [
    "# Composition of Labour Participation Rates by Region Over time"
   ]
  },
  {
   "cell_type": "code",
   "execution_count": null,
   "id": "cf046841",
   "metadata": {},
   "outputs": [],
   "source": [
    "fig = px.area(\n",
    "    df,\n",
    "    x='Date',\n",
    "    y='Estimated Labour Participation Rate (%)',\n",
    "    color='Region',\n",
    "    labels={'Estimated Labour Participation Rate (%)': 'Labour Participation Rate (%)'},\n",
    "    category_orders={'Region': df['Region'].unique()}  # Preserve the order of regions\n",
    ")\n",
    "\n",
    "fig.update_layout(\n",
    "    xaxis_title='Date',\n",
    "    yaxis_title='Labour Participation Rate (%)',\n",
    "    legend_title='Region',\n",
    "    legend=dict(orientation=\"h\", yanchor=\"bottom\", y=1.02, xanchor=\"right\", x=1),\n",
    ")\n",
    "\n",
    "fig.show()"
   ]
  },
  {
   "cell_type": "markdown",
   "id": "73561471",
   "metadata": {},
   "source": [
    "# During the month of april labour participation declined all over India.\n",
    "\n",
    "#### Extracting month from date"
   ]
  },
  {
   "cell_type": "code",
   "execution_count": null,
   "id": "7956f898",
   "metadata": {},
   "outputs": [],
   "source": [
    "df['Month'] = df['Date'].dt.month\n",
    "df"
   ]
  },
  {
   "cell_type": "code",
   "execution_count": null,
   "id": "35848bd6",
   "metadata": {},
   "outputs": [],
   "source": [
    "# Filter data for months 1 to 3 (before lockdown)\n",
    "before_lock = df[(df['Month'] >= 1) & (df['Month'] <= 3)][['Region', 'Estimated Unemployment Rate (%)']]\n",
    "\n",
    "# Filter data for months 3 to 5 (after lockdown)\n",
    "after_lock = df[(df['Month'] >= 3) & (df['Month'] < 6)][['Region', 'Estimated Unemployment Rate (%)']]\n",
    "\n",
    "before_lock = before_lock.groupby('Region')['Estimated Unemployment Rate (%)'].mean().reset_index().rename(\n",
    "    columns={'Estimated Unemployment Rate (%)':'Unemployment Rate before Lock-Down'})\n",
    "\n",
    "after_lock = after_lock.groupby('Region')['Estimated Unemployment Rate (%)'].mean().reset_index().rename(\n",
    "    columns={'Estimated Unemployment Rate (%)':'Unemployment Rate after Lock-Down'}) \n",
    "\n",
    "before_lock['Percentage Change in Unemployment'] = round((after_lock['Unemployment Rate after Lock-Down'] - before_lock['Unemployment Rate before Lock-Down']) / before_lock['Unemployment Rate before Lock-Down'], 2)\n",
    "plot_df = before_lock.sort_values('Percentage Change in Unemployment', ascending=False)\n",
    "\n",
    "plt.figure(figsize=(16, 10))\n",
    "sns.barplot(data=plot_df, y='Region', x='Percentage Change in Unemployment')"
   ]
  },
  {
   "cell_type": "markdown",
   "id": "93ada9d4",
   "metadata": {},
   "source": [
    "### If the percentage change is positive (+X%), it means that unemployment has increased by X% compared to the previous period. In other words, more people are unemployed.\n",
    "\n",
    "### If the percentage change is negative (-X%), it means that unemployment has decreased by X% compared to the previous period. Fewer people are unemployed.\n",
    "\n",
    "### The magnitude of the percentage change indicates how significant the change is. A larger percentage change suggests a more substantial shift in unemployment rates compared to a smaller percentage change.\n",
    "\n",
    "### Puducherry's unemployment rate had been seriously impacted by the lock-down.\n",
    "\n",
    "### Sikkim, Chattisgarh, Jammu & Kashmir and Himachal Pradesh have negetive percentage change.That means these states are not highly impacted by the lock down."
   ]
  },
  {
   "cell_type": "code",
   "execution_count": null,
   "id": "fe4d13b8",
   "metadata": {},
   "outputs": [],
   "source": []
  },
  {
   "cell_type": "code",
   "execution_count": null,
   "id": "6b0b4208",
   "metadata": {},
   "outputs": [],
   "source": []
  },
  {
   "cell_type": "code",
   "execution_count": null,
   "id": "5127f54a",
   "metadata": {},
   "outputs": [],
   "source": []
  }
 ],
 "metadata": {
  "kernelspec": {
   "display_name": "Python 3 (ipykernel)",
   "language": "python",
   "name": "python3"
  },
  "language_info": {
   "codemirror_mode": {
    "name": "ipython",
    "version": 3
   },
   "file_extension": ".py",
   "mimetype": "text/x-python",
   "name": "python",
   "nbconvert_exporter": "python",
   "pygments_lexer": "ipython3",
   "version": "3.10.9"
  }
 },
 "nbformat": 4,
 "nbformat_minor": 5
}
